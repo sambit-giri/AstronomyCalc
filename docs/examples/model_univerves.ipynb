{
 "cells": [
  {
   "cell_type": "markdown",
   "id": "50370ffa",
   "metadata": {},
   "source": [
    "# Model universes"
   ]
  },
  {
   "cell_type": "code",
   "execution_count": 1,
   "id": "6d5c776e",
   "metadata": {},
   "outputs": [],
   "source": [
    "import numpy as np \n",
    "import AstronomyCalc"
   ]
  },
  {
   "cell_type": "markdown",
   "id": "2d00e983",
   "metadata": {},
   "source": [
    "#### Setting the general code parameters"
   ]
  },
  {
   "cell_type": "code",
   "execution_count": 15,
   "id": "f68a61e2",
   "metadata": {},
   "outputs": [],
   "source": [
    "code_param_dict = {'zmin': 0.01, 'zmax': 11.0, 'Nz': 100, 'verbose': True}"
   ]
  },
  {
   "cell_type": "markdown",
   "id": "26cc9e31",
   "metadata": {},
   "source": [
    "### Einsten-de Sitter universe"
   ]
  },
  {
   "cell_type": "code",
   "execution_count": 16,
   "id": "bb3d1a53",
   "metadata": {},
   "outputs": [
    {
     "name": "stdout",
     "output_type": "stream",
     "text": [
      "Cosmological parameters\n",
      "{'Om': 1.0, 'Or': 0, 'Ok': 0, 'Ode': 0, 'h': 0.68}\n",
      "Code parameters\n",
      "{'zmin': 0.01, 'zmax': 11.0, 'Nz': 100, 'verbose': True}\n"
     ]
    }
   ],
   "source": [
    "cosmo_dict = {'Om': 1.0, 'Or': 0, 'Ok': 0, 'Ode': 0, 'h': 0.68}\n",
    "param_EdS = AstronomyCalc.param(cosmo=cosmo_dict, code=code_param_dict)\n",
    "\n",
    "print('Cosmological parameters')\n",
    "print(param_EdS.cosmo.__dict__)\n",
    "print('Code parameters')\n",
    "print(param_EdS.code.__dict__)"
   ]
  },
  {
   "cell_type": "code",
   "execution_count": 17,
   "id": "dae78111",
   "metadata": {},
   "outputs": [],
   "source": [
    "D_EdS = AstronomyCalc.CosmoDistances(param_EdS)"
   ]
  },
  {
   "cell_type": "markdown",
   "id": "22d3aa44",
   "metadata": {},
   "source": [
    "### de Sitter universe"
   ]
  },
  {
   "cell_type": "code",
   "execution_count": 18,
   "id": "3c07ddb6",
   "metadata": {},
   "outputs": [
    {
     "name": "stdout",
     "output_type": "stream",
     "text": [
      "Cosmological parameters\n",
      "{'Om': 0.0, 'Or': 0, 'Ok': 0, 'Ode': 1.0, 'h': 0.68}\n",
      "Code parameters\n",
      "{'zmin': 0.01, 'zmax': 11.0, 'Nz': 100, 'verbose': True}\n"
     ]
    }
   ],
   "source": [
    "cosmo_dict = {'Om': 0.0, 'Or': 0, 'Ok': 0, 'Ode': 1.0, 'h': 0.68}\n",
    "param_dS = AstronomyCalc.param(cosmo=cosmo_dict, code=code_param_dict)\n",
    "\n",
    "print('Cosmological parameters')\n",
    "print(param_dS.cosmo.__dict__)\n",
    "print('Code parameters')\n",
    "print(param_dS.code.__dict__)"
   ]
  },
  {
   "cell_type": "code",
   "execution_count": 19,
   "id": "92ce5202",
   "metadata": {},
   "outputs": [],
   "source": [
    "D_dS = AstronomyCalc.CosmoDistances(param_dS)"
   ]
  },
  {
   "cell_type": "markdown",
   "id": "e2ea37b6",
   "metadata": {},
   "source": [
    "### Benchmark model or Planck universe"
   ]
  },
  {
   "cell_type": "code",
   "execution_count": 20,
   "id": "d18c19b3",
   "metadata": {},
   "outputs": [
    {
     "name": "stdout",
     "output_type": "stream",
     "text": [
      "Cosmological parameters\n",
      "{'Om': 0.31, 'Or': 0.0, 'Ok': 0.0, 'Ode': 0.69, 'h': 0.68}\n",
      "Code parameters\n",
      "{'zmin': 0.01, 'zmax': 11.0, 'Nz': 100, 'verbose': True}\n"
     ]
    }
   ],
   "source": [
    "cosmo_dict = {'Om': 0.31, 'Or': 0.0, 'Ok': 0.0, 'Ode': 0.69, 'h': 0.68}\n",
    "param = AstronomyCalc.param(cosmo=cosmo_dict, code=code_param_dict)\n",
    "\n",
    "print('Cosmological parameters')\n",
    "print(param.cosmo.__dict__)\n",
    "print('Code parameters')\n",
    "print(param.code.__dict__)"
   ]
  },
  {
   "cell_type": "code",
   "execution_count": 21,
   "id": "5a921cfc",
   "metadata": {},
   "outputs": [],
   "source": [
    "D = AstronomyCalc.CosmoDistances(param)"
   ]
  },
  {
   "cell_type": "markdown",
   "id": "7f52b8db",
   "metadata": {},
   "source": [
    "## Plot distances in model universes"
   ]
  },
  {
   "cell_type": "code",
   "execution_count": 22,
   "id": "87c14e7e",
   "metadata": {},
   "outputs": [
    {
     "data": {
      "image/png": "[encoded data removed]",
      "text/plain": [
       "<Figure size 500x400 with 1 Axes>"
      ]
     },
     "metadata": {},
     "output_type": "display_data"
    }
   ],
   "source": [
    "import matplotlib.pyplot as plt\n",
    "\n",
    "zs = np.linspace(param.code.zmin,param.code.zmax,param.code.Nz)\n",
    "fig, ax = plt.subplots(1,1,figsize=(5,4))\n",
    "ax.loglog(zs, D_EdS.comoving_dist(zs), ls='--', label='EdS')\n",
    "ax.loglog(zs, D_dS.comoving_dist(zs), ls='-.', label='dS')\n",
    "ax.loglog(zs, D.comoving_dist(zs), ls='-', label='Planck')\n",
    "ax.set_xlabel('Redshift')\n",
    "ax.set_ylabel('Comoving distance')\n",
    "ax.axis([0.01,10,40,5e4])\n",
    "plt.show()"
   ]
  },
  {
   "cell_type": "markdown",
   "id": "0d814310",
   "metadata": {},
   "source": [
    "## Light travel time"
   ]
  },
  {
   "cell_type": "code",
   "execution_count": null,
   "id": "a4db5b35",
   "metadata": {},
   "outputs": [],
   "source": []
  }
 ],
 "metadata": {
  "kernelspec": {
   "display_name": "Python 3 (ipykernel)",
   "language": "python",
   "name": "python3"
  },
  "language_info": {
   "codemirror_mode": {
    "name": "ipython",
    "version": 3
   },
   "file_extension": ".py",
   "mimetype": "text/x-python",
   "name": "python",
   "nbconvert_exporter": "python",
   "pygments_lexer": "ipython3",
   "version": "3.10.8"
  }
 },
 "nbformat": 4,
 "nbformat_minor": 5
}
